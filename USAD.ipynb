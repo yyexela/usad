{
 "cells": [
  {
   "cell_type": "markdown",
   "metadata": {
    "id": "etniX_KTlJ5U"
   },
   "source": [
    "# USAD"
   ]
  },
  {
   "cell_type": "markdown",
   "metadata": {
    "id": "N3jM0qLU8MgZ"
   },
   "source": [
    "## Environment"
   ]
  },
  {
   "cell_type": "code",
   "execution_count": 1,
   "metadata": {
    "id": "6u1DGKsAlLF-"
   },
   "outputs": [],
   "source": [
    "import numpy as np\n",
    "import pandas as pd\n",
    "import matplotlib.pyplot as plt\n",
    "import seaborn as sns\n",
    "import torch\n",
    "import torch.nn as nn\n",
    "\n",
    "from utils import *\n",
    "from usad import *"
   ]
  },
  {
   "cell_type": "code",
   "execution_count": 2,
   "metadata": {
    "colab": {
     "base_uri": "https://localhost:8080/",
     "height": 34
    },
    "id": "4AzWlDBI_djV",
    "outputId": "7a8d0c19-2389-461b-c0be-3427a25dda91"
   },
   "outputs": [],
   "source": [
    "device = get_default_device()"
   ]
  },
  {
   "cell_type": "code",
   "execution_count": 3,
   "metadata": {},
   "outputs": [
    {
     "name": "stdout",
     "output_type": "stream",
     "text": [
      "cuda\n"
     ]
    }
   ],
   "source": [
    "print(device)"
   ]
  },
  {
   "cell_type": "markdown",
   "metadata": {
    "id": "1crx5rGP9ONf"
   },
   "source": [
    "## EDA - Data Pre-Processing"
   ]
  },
  {
   "cell_type": "markdown",
   "metadata": {
    "id": "vxofeE469RhT"
   },
   "source": [
    "### Download dataset"
   ]
  },
  {
   "cell_type": "code",
   "execution_count": 4,
   "metadata": {},
   "outputs": [],
   "source": [
    "# Downsample\n",
    "def downsample(input_arr: np.ndarray, m: int):\n",
    "    '''\n",
    "    Given an (n,d) numpy array, down-sample the array by calculating the median\n",
    "    of every m data points\n",
    "\n",
    "    Tested\n",
    "    '''    \n",
    "    # 0: calculate d\n",
    "    d = input_arr.shape[1]\n",
    "    # 1: cut off end\n",
    "    new_len = input_arr.shape[0] - (input_arr.shape[0] % m)\n",
    "    A = input_arr[0:new_len,:]\n",
    "    # 2: reshape\n",
    "    B = A.T\n",
    "    C = B.reshape(d, -1, m)\n",
    "    # 3: median\n",
    "    D = np.median(C ,2)\n",
    "    # 4: Reshape again\n",
    "    E = D.T\n",
    "    return E"
   ]
  },
  {
   "cell_type": "markdown",
   "metadata": {
    "id": "kfSj4FYL9W8Y"
   },
   "source": [
    "### Normal period"
   ]
  },
  {
   "cell_type": "code",
   "execution_count": 5,
   "metadata": {
    "colab": {
     "base_uri": "https://localhost:8080/",
     "height": 87
    },
    "id": "XeDLxV_r1G9n",
    "outputId": "576538dd-64f2-46fa-8e6f-6c2ffdebad15"
   },
   "outputs": [
    {
     "name": "stderr",
     "output_type": "stream",
     "text": [
      "/tmp/ipykernel_274085/3202893291.py:2: DtypeWarning: Columns (26) have mixed types. Specify dtype option on import or set low_memory=False.\n",
      "  normal = pd.read_csv(\"input/SWaT_Dataset_Normal_v1.csv\")#, nrows=1000)\n"
     ]
    },
    {
     "data": {
      "text/plain": [
       "(495000, 51)"
      ]
     },
     "execution_count": 5,
     "metadata": {},
     "output_type": "execute_result"
    }
   ],
   "source": [
    "#Read data\n",
    "normal = pd.read_csv(\"input/SWaT_Dataset_Normal_v1.csv\")#, nrows=1000)\n",
    "normal = normal.drop([\"Timestamp\" , \"Normal/Attack\" ] , axis = 1)\n",
    "normal.shape"
   ]
  },
  {
   "cell_type": "code",
   "execution_count": 6,
   "metadata": {
    "id": "fFuLm1GH1G2n"
   },
   "outputs": [],
   "source": [
    "# Transform all columns into float64\n",
    "for i in list(normal): \n",
    "    normal[i]=normal[i].apply(lambda x: str(x).replace(\",\" , \".\"))\n",
    "normal = normal.astype(float)"
   ]
  },
  {
   "cell_type": "markdown",
   "metadata": {
    "id": "zxFNH5kU9hIE"
   },
   "source": [
    "#### Normalization"
   ]
  },
  {
   "cell_type": "code",
   "execution_count": 7,
   "metadata": {
    "id": "Mfxj4Uxn9kv4"
   },
   "outputs": [],
   "source": [
    "from sklearn import preprocessing\n",
    "min_max_scaler = preprocessing.MinMaxScaler()\n",
    "\n",
    "x = normal.values\n",
    "x_scaled = min_max_scaler.fit_transform(x)\n",
    "normal = pd.DataFrame(x_scaled)"
   ]
  },
  {
   "cell_type": "code",
   "execution_count": 8,
   "metadata": {
    "colab": {
     "base_uri": "https://localhost:8080/",
     "height": 126
    },
    "id": "mQ6_U4jn9nlw",
    "outputId": "f1cc1bd6-f1cc-4764-b1cc-2fd989ac4918"
   },
   "outputs": [
    {
     "data": {
      "text/html": [
       "<div>\n",
       "<style scoped>\n",
       "    .dataframe tbody tr th:only-of-type {\n",
       "        vertical-align: middle;\n",
       "    }\n",
       "\n",
       "    .dataframe tbody tr th {\n",
       "        vertical-align: top;\n",
       "    }\n",
       "\n",
       "    .dataframe thead th {\n",
       "        text-align: right;\n",
       "    }\n",
       "</style>\n",
       "<table border=\"1\" class=\"dataframe\">\n",
       "  <thead>\n",
       "    <tr style=\"text-align: right;\">\n",
       "      <th></th>\n",
       "      <th>0</th>\n",
       "      <th>1</th>\n",
       "      <th>2</th>\n",
       "      <th>3</th>\n",
       "      <th>4</th>\n",
       "      <th>5</th>\n",
       "      <th>6</th>\n",
       "      <th>7</th>\n",
       "      <th>8</th>\n",
       "      <th>9</th>\n",
       "      <th>...</th>\n",
       "      <th>41</th>\n",
       "      <th>42</th>\n",
       "      <th>43</th>\n",
       "      <th>44</th>\n",
       "      <th>45</th>\n",
       "      <th>46</th>\n",
       "      <th>47</th>\n",
       "      <th>48</th>\n",
       "      <th>49</th>\n",
       "      <th>50</th>\n",
       "    </tr>\n",
       "  </thead>\n",
       "  <tbody>\n",
       "    <tr>\n",
       "      <th>0</th>\n",
       "      <td>0.0</td>\n",
       "      <td>0.005294</td>\n",
       "      <td>0.5</td>\n",
       "      <td>0.0</td>\n",
       "      <td>0.0</td>\n",
       "      <td>0.012291</td>\n",
       "      <td>0.075099</td>\n",
       "      <td>0.002009</td>\n",
       "      <td>0.0</td>\n",
       "      <td>0.5</td>\n",
       "      <td>...</td>\n",
       "      <td>0.0</td>\n",
       "      <td>0.0</td>\n",
       "      <td>0.0</td>\n",
       "      <td>0.000814</td>\n",
       "      <td>0.0</td>\n",
       "      <td>0.001217</td>\n",
       "      <td>0.000147</td>\n",
       "      <td>0.0</td>\n",
       "      <td>0.0</td>\n",
       "      <td>0.0</td>\n",
       "    </tr>\n",
       "    <tr>\n",
       "      <th>1</th>\n",
       "      <td>0.0</td>\n",
       "      <td>0.005407</td>\n",
       "      <td>0.5</td>\n",
       "      <td>0.0</td>\n",
       "      <td>0.0</td>\n",
       "      <td>0.012291</td>\n",
       "      <td>0.075099</td>\n",
       "      <td>0.002009</td>\n",
       "      <td>0.0</td>\n",
       "      <td>0.5</td>\n",
       "      <td>...</td>\n",
       "      <td>0.0</td>\n",
       "      <td>0.0</td>\n",
       "      <td>0.0</td>\n",
       "      <td>0.000814</td>\n",
       "      <td>0.0</td>\n",
       "      <td>0.001217</td>\n",
       "      <td>0.000147</td>\n",
       "      <td>0.0</td>\n",
       "      <td>0.0</td>\n",
       "      <td>0.0</td>\n",
       "    </tr>\n",
       "  </tbody>\n",
       "</table>\n",
       "<p>2 rows × 51 columns</p>\n",
       "</div>"
      ],
      "text/plain": [
       "    0         1    2    3    4         5         6         7    8    9   ...  \\\n",
       "0  0.0  0.005294  0.5  0.0  0.0  0.012291  0.075099  0.002009  0.0  0.5  ...   \n",
       "1  0.0  0.005407  0.5  0.0  0.0  0.012291  0.075099  0.002009  0.0  0.5  ...   \n",
       "\n",
       "    41   42   43        44   45        46        47   48   49   50  \n",
       "0  0.0  0.0  0.0  0.000814  0.0  0.001217  0.000147  0.0  0.0  0.0  \n",
       "1  0.0  0.0  0.0  0.000814  0.0  0.001217  0.000147  0.0  0.0  0.0  \n",
       "\n",
       "[2 rows x 51 columns]"
      ]
     },
     "execution_count": 8,
     "metadata": {},
     "output_type": "execute_result"
    }
   ],
   "source": [
    "normal.head(2)"
   ]
  },
  {
   "cell_type": "markdown",
   "metadata": {
    "id": "_i71RFAi9spa"
   },
   "source": [
    "### Attack"
   ]
  },
  {
   "cell_type": "code",
   "execution_count": 9,
   "metadata": {
    "colab": {
     "base_uri": "https://localhost:8080/",
     "height": 87
    },
    "id": "aN_TFp5x9uTE",
    "outputId": "38d7993d-c9a3-461d-c430-ebde697afbc6"
   },
   "outputs": [
    {
     "name": "stderr",
     "output_type": "stream",
     "text": [
      "/tmp/ipykernel_274085/12158840.py:2: DtypeWarning: Columns (1,9,28,46) have mixed types. Specify dtype option on import or set low_memory=False.\n",
      "  attack = pd.read_csv(\"input/SWaT_Dataset_Attack_v0.csv\",sep=\";\")#, nrows=1000)\n"
     ]
    },
    {
     "data": {
      "text/plain": [
       "(449919, 51)"
      ]
     },
     "execution_count": 9,
     "metadata": {},
     "output_type": "execute_result"
    }
   ],
   "source": [
    "#Read data\n",
    "attack = pd.read_csv(\"input/SWaT_Dataset_Attack_v0.csv\",sep=\";\")#, nrows=1000)\n",
    "labels = [ float(label!= 'Normal' ) for label  in attack[\"Normal/Attack\"].values]\n",
    "attack = attack.drop([\"Timestamp\" , \"Normal/Attack\" ] , axis = 1)\n",
    "attack.shape"
   ]
  },
  {
   "cell_type": "code",
   "execution_count": 10,
   "metadata": {
    "id": "qLCInT-I9_-D"
   },
   "outputs": [],
   "source": [
    "# Transform all columns into float64\n",
    "for i in list(attack):\n",
    "    attack[i]=attack[i].apply(lambda x: str(x).replace(\",\" , \".\"))\n",
    "attack = attack.astype(float)"
   ]
  },
  {
   "cell_type": "markdown",
   "metadata": {
    "id": "c4cB4v3N-Dhu"
   },
   "source": [
    "#### Normalization"
   ]
  },
  {
   "cell_type": "code",
   "execution_count": 11,
   "metadata": {
    "id": "jZrha9cO-BGK"
   },
   "outputs": [],
   "source": [
    "from sklearn import preprocessing\n",
    "\n",
    "x = attack.values \n",
    "x_scaled = min_max_scaler.transform(x)\n",
    "attack = pd.DataFrame(x_scaled)"
   ]
  },
  {
   "cell_type": "code",
   "execution_count": 12,
   "metadata": {
    "colab": {
     "base_uri": "https://localhost:8080/",
     "height": 126
    },
    "id": "z9SwiPco-BUa",
    "outputId": "f2507282-c0f9-4253-ece7-0a802b68240f"
   },
   "outputs": [
    {
     "data": {
      "text/html": [
       "<div>\n",
       "<style scoped>\n",
       "    .dataframe tbody tr th:only-of-type {\n",
       "        vertical-align: middle;\n",
       "    }\n",
       "\n",
       "    .dataframe tbody tr th {\n",
       "        vertical-align: top;\n",
       "    }\n",
       "\n",
       "    .dataframe thead th {\n",
       "        text-align: right;\n",
       "    }\n",
       "</style>\n",
       "<table border=\"1\" class=\"dataframe\">\n",
       "  <thead>\n",
       "    <tr style=\"text-align: right;\">\n",
       "      <th></th>\n",
       "      <th>0</th>\n",
       "      <th>1</th>\n",
       "      <th>2</th>\n",
       "      <th>3</th>\n",
       "      <th>4</th>\n",
       "      <th>5</th>\n",
       "      <th>6</th>\n",
       "      <th>7</th>\n",
       "      <th>8</th>\n",
       "      <th>9</th>\n",
       "      <th>...</th>\n",
       "      <th>41</th>\n",
       "      <th>42</th>\n",
       "      <th>43</th>\n",
       "      <th>44</th>\n",
       "      <th>45</th>\n",
       "      <th>46</th>\n",
       "      <th>47</th>\n",
       "      <th>48</th>\n",
       "      <th>49</th>\n",
       "      <th>50</th>\n",
       "    </tr>\n",
       "  </thead>\n",
       "  <tbody>\n",
       "    <tr>\n",
       "      <th>0</th>\n",
       "      <td>0.884144</td>\n",
       "      <td>0.577133</td>\n",
       "      <td>1.0</td>\n",
       "      <td>1.0</td>\n",
       "      <td>0.0</td>\n",
       "      <td>0.496158</td>\n",
       "      <td>0.188845</td>\n",
       "      <td>0.064088</td>\n",
       "      <td>0.982899</td>\n",
       "      <td>1.0</td>\n",
       "      <td>...</td>\n",
       "      <td>0.970903</td>\n",
       "      <td>1.0</td>\n",
       "      <td>0.0</td>\n",
       "      <td>0.946125</td>\n",
       "      <td>0.449782</td>\n",
       "      <td>0.944116</td>\n",
       "      <td>0.000073</td>\n",
       "      <td>0.0</td>\n",
       "      <td>0.0</td>\n",
       "      <td>0.0</td>\n",
       "    </tr>\n",
       "    <tr>\n",
       "      <th>1</th>\n",
       "      <td>0.891145</td>\n",
       "      <td>0.577190</td>\n",
       "      <td>1.0</td>\n",
       "      <td>1.0</td>\n",
       "      <td>0.0</td>\n",
       "      <td>0.496158</td>\n",
       "      <td>0.188845</td>\n",
       "      <td>0.064088</td>\n",
       "      <td>0.982899</td>\n",
       "      <td>1.0</td>\n",
       "      <td>...</td>\n",
       "      <td>0.970903</td>\n",
       "      <td>1.0</td>\n",
       "      <td>0.0</td>\n",
       "      <td>0.946125</td>\n",
       "      <td>0.449782</td>\n",
       "      <td>0.944521</td>\n",
       "      <td>0.000073</td>\n",
       "      <td>0.0</td>\n",
       "      <td>0.0</td>\n",
       "      <td>0.0</td>\n",
       "    </tr>\n",
       "  </tbody>\n",
       "</table>\n",
       "<p>2 rows × 51 columns</p>\n",
       "</div>"
      ],
      "text/plain": [
       "         0         1    2    3    4         5         6         7         8   \\\n",
       "0  0.884144  0.577133  1.0  1.0  0.0  0.496158  0.188845  0.064088  0.982899   \n",
       "1  0.891145  0.577190  1.0  1.0  0.0  0.496158  0.188845  0.064088  0.982899   \n",
       "\n",
       "    9   ...        41   42   43        44        45        46        47   48  \\\n",
       "0  1.0  ...  0.970903  1.0  0.0  0.946125  0.449782  0.944116  0.000073  0.0   \n",
       "1  1.0  ...  0.970903  1.0  0.0  0.946125  0.449782  0.944521  0.000073  0.0   \n",
       "\n",
       "    49   50  \n",
       "0  0.0  0.0  \n",
       "1  0.0  0.0  \n",
       "\n",
       "[2 rows x 51 columns]"
      ]
     },
     "execution_count": 12,
     "metadata": {},
     "output_type": "execute_result"
    }
   ],
   "source": [
    "attack.head(2)"
   ]
  },
  {
   "cell_type": "markdown",
   "metadata": {
    "id": "xXJi503b-j_d"
   },
   "source": [
    "### Windows"
   ]
  },
  {
   "cell_type": "code",
   "execution_count": 13,
   "metadata": {
    "id": "vyplttZa-BRN"
   },
   "outputs": [],
   "source": [
    "window_size=12"
   ]
  },
  {
   "cell_type": "code",
   "execution_count": 14,
   "metadata": {},
   "outputs": [
    {
     "name": "stdout",
     "output_type": "stream",
     "text": [
      "(495000, 51)\n",
      "(99000, 51)\n",
      "(449919, 51)\n",
      "(89983, 51)\n"
     ]
    }
   ],
   "source": [
    "normal_vals = downsample(normal.values, 5)\n",
    "print(normal.values.shape)\n",
    "print(normal_vals.shape)\n",
    "\n",
    "attack_vals = downsample(attack.values, 5)\n",
    "print(attack.values.shape)\n",
    "print(attack_vals.shape)\n",
    "\n"
   ]
  },
  {
   "cell_type": "code",
   "execution_count": 15,
   "metadata": {
    "colab": {
     "base_uri": "https://localhost:8080/",
     "height": 34
    },
    "id": "dzGJMp6Y-BN5",
    "outputId": "2949d278-1313-442c-f06b-275a8c6c6578"
   },
   "outputs": [
    {
     "data": {
      "text/plain": [
       "(98988, 12, 51)"
      ]
     },
     "execution_count": 15,
     "metadata": {},
     "output_type": "execute_result"
    }
   ],
   "source": [
    "windows_normal=normal_vals[np.arange(window_size)[None, :] + np.arange(normal_vals.shape[0]-window_size)[:, None]]\n",
    "windows_normal.shape"
   ]
  },
  {
   "cell_type": "code",
   "execution_count": 16,
   "metadata": {
    "colab": {
     "base_uri": "https://localhost:8080/",
     "height": 34
    },
    "id": "17LdB3c8-pRH",
    "outputId": "721059d4-5937-4dd3-d73c-e5d255fc273c"
   },
   "outputs": [
    {
     "data": {
      "text/plain": [
       "(89971, 12, 51)"
      ]
     },
     "execution_count": 16,
     "metadata": {},
     "output_type": "execute_result"
    }
   ],
   "source": [
    "windows_attack=attack_vals[np.arange(window_size)[None, :] + np.arange(attack_vals.shape[0]-window_size)[:, None]]\n",
    "windows_attack.shape"
   ]
  },
  {
   "cell_type": "markdown",
   "metadata": {
    "id": "k70ZFxGs-_7m"
   },
   "source": [
    "## Training"
   ]
  },
  {
   "cell_type": "code",
   "execution_count": 17,
   "metadata": {
    "id": "yi9S0SGnDKNc"
   },
   "outputs": [
    {
     "name": "stdout",
     "output_type": "stream",
     "text": [
      "w_size 612\n",
      "z_size 100\n"
     ]
    }
   ],
   "source": [
    "import torch.utils.data as data_utils\n",
    "\n",
    "BATCH_SIZE =  4096\n",
    "N_EPOCHS = 100\n",
    "hidden_size = 100\n",
    "\n",
    "w_size=windows_normal.shape[1]*windows_normal.shape[2]\n",
    "#z_size=windows_normal.shape[1]*hidden_size\n",
    "z_size=hidden_size\n",
    "\n",
    "windows_normal_train = windows_normal[:int(np.floor(.8 *  windows_normal.shape[0]))]\n",
    "windows_normal_val = windows_normal[int(np.floor(.8 *  windows_normal.shape[0])):int(np.floor(windows_normal.shape[0]))]\n",
    "\n",
    "train_loader = torch.utils.data.DataLoader(data_utils.TensorDataset(\n",
    "    torch.from_numpy(windows_normal_train).float().view(([windows_normal_train.shape[0],w_size]))\n",
    ") , batch_size=BATCH_SIZE, shuffle=False, num_workers=0)\n",
    "\n",
    "val_loader = torch.utils.data.DataLoader(data_utils.TensorDataset(\n",
    "    torch.from_numpy(windows_normal_val).float().view(([windows_normal_val.shape[0],w_size]))\n",
    ") , batch_size=BATCH_SIZE, shuffle=False, num_workers=0)\n",
    "\n",
    "test_loader = torch.utils.data.DataLoader(data_utils.TensorDataset(\n",
    "    torch.from_numpy(windows_attack).float().view(([windows_attack.shape[0],w_size]))\n",
    ") , batch_size=BATCH_SIZE, shuffle=False, num_workers=0)\n",
    "\n",
    "print(\"w_size\", w_size)\n",
    "print(\"z_size\", z_size)\n",
    "\n",
    "model = UsadModel(w_size, z_size)\n",
    "model = to_device(model,device)"
   ]
  },
  {
   "cell_type": "code",
   "execution_count": 18,
   "metadata": {
    "colab": {
     "base_uri": "https://localhost:8080/",
     "height": 1000
    },
    "id": "So9yjDPEDObC",
    "outputId": "629bcd13-37b1-4907-ef0d-46d9e3ad5398",
    "scrolled": true
   },
   "outputs": [
    {
     "name": "stdout",
     "output_type": "stream",
     "text": [
      "Epoch [0], val_loss1: 0.0360, val_loss2: 0.0362\n",
      "Epoch [1], val_loss1: 0.0323, val_loss2: -0.0020\n",
      "Epoch [2], val_loss1: 0.0315, val_loss2: -0.0126\n",
      "Epoch [3], val_loss1: 0.0306, val_loss2: -0.0167\n",
      "Epoch [4], val_loss1: 0.0303, val_loss2: -0.0196\n",
      "Epoch [5], val_loss1: 0.0304, val_loss2: -0.0213\n",
      "Epoch [6], val_loss1: 0.0299, val_loss2: -0.0224\n",
      "Epoch [7], val_loss1: 0.0308, val_loss2: -0.0239\n",
      "Epoch [8], val_loss1: 0.0305, val_loss2: -0.0246\n",
      "Epoch [9], val_loss1: 0.0309, val_loss2: -0.0256\n",
      "Epoch [10], val_loss1: 0.0330, val_loss2: -0.0278\n",
      "Epoch [11], val_loss1: 0.0326, val_loss2: -0.0280\n",
      "Epoch [12], val_loss1: 0.0342, val_loss2: -0.0297\n",
      "Epoch [13], val_loss1: 0.0330, val_loss2: -0.0291\n",
      "Epoch [14], val_loss1: 0.0363, val_loss2: -0.0322\n",
      "Epoch [15], val_loss1: 0.0332, val_loss2: -0.0297\n",
      "Epoch [16], val_loss1: 0.0354, val_loss2: -0.0319\n",
      "Epoch [17], val_loss1: 0.0337, val_loss2: -0.0306\n",
      "Epoch [18], val_loss1: 0.0346, val_loss2: -0.0316\n",
      "Epoch [19], val_loss1: 0.0342, val_loss2: -0.0314\n",
      "Epoch [20], val_loss1: 0.0352, val_loss2: -0.0323\n",
      "Epoch [21], val_loss1: 0.0323, val_loss2: -0.0298\n",
      "Epoch [22], val_loss1: 0.0346, val_loss2: -0.0321\n"
     ]
    },
    {
     "ename": "KeyboardInterrupt",
     "evalue": "",
     "output_type": "error",
     "traceback": [
      "\u001b[0;31m---------------------------------------------------------------------------\u001b[0m",
      "\u001b[0;31mKeyboardInterrupt\u001b[0m                         Traceback (most recent call last)",
      "Cell \u001b[0;32mIn[18], line 1\u001b[0m\n\u001b[0;32m----> 1\u001b[0m history \u001b[38;5;241m=\u001b[39m training(N_EPOCHS,model,train_loader,val_loader)\n",
      "File \u001b[0;32m~/School/Research/submodules/usad/usad.py:99\u001b[0m, in \u001b[0;36mtraining\u001b[0;34m(epochs, model, train_loader, val_loader, opt_func)\u001b[0m\n\u001b[1;32m     95\u001b[0m optimizer1\u001b[38;5;241m.\u001b[39mzero_grad()\n\u001b[1;32m     98\u001b[0m \u001b[38;5;66;03m#Train AE2\u001b[39;00m\n\u001b[0;32m---> 99\u001b[0m loss1,loss2 \u001b[38;5;241m=\u001b[39m model\u001b[38;5;241m.\u001b[39mtraining_step(batch,epoch\u001b[38;5;241m+\u001b[39m\u001b[38;5;241m1\u001b[39m)\n\u001b[1;32m    100\u001b[0m loss2\u001b[38;5;241m.\u001b[39mbackward()\n\u001b[1;32m    101\u001b[0m optimizer2\u001b[38;5;241m.\u001b[39mstep()\n",
      "File \u001b[0;32m~/School/Research/submodules/usad/usad.py:55\u001b[0m, in \u001b[0;36mUsadModel.training_step\u001b[0;34m(self, batch, n)\u001b[0m\n\u001b[1;32m     53\u001b[0m w2 \u001b[38;5;241m=\u001b[39m \u001b[38;5;28mself\u001b[39m\u001b[38;5;241m.\u001b[39mdecoder2(z)\n\u001b[1;32m     54\u001b[0m w3 \u001b[38;5;241m=\u001b[39m \u001b[38;5;28mself\u001b[39m\u001b[38;5;241m.\u001b[39mdecoder2(\u001b[38;5;28mself\u001b[39m\u001b[38;5;241m.\u001b[39mencoder(w1))\n\u001b[0;32m---> 55\u001b[0m loss1 \u001b[38;5;241m=\u001b[39m \u001b[38;5;241m1\u001b[39m\u001b[38;5;241m/\u001b[39mn\u001b[38;5;241m*\u001b[39mtorch\u001b[38;5;241m.\u001b[39mmean((batch\u001b[38;5;241m-\u001b[39mw1)\u001b[38;5;241m*\u001b[39m\u001b[38;5;241m*\u001b[39m\u001b[38;5;241m2\u001b[39m)\u001b[38;5;241m+\u001b[39m(\u001b[38;5;241m1\u001b[39m\u001b[38;5;241m-\u001b[39m\u001b[38;5;241m1\u001b[39m\u001b[38;5;241m/\u001b[39mn)\u001b[38;5;241m*\u001b[39mtorch\u001b[38;5;241m.\u001b[39mmean((batch\u001b[38;5;241m-\u001b[39mw3)\u001b[38;5;241m*\u001b[39m\u001b[38;5;241m*\u001b[39m\u001b[38;5;241m2\u001b[39m)\n\u001b[1;32m     56\u001b[0m loss2 \u001b[38;5;241m=\u001b[39m \u001b[38;5;241m1\u001b[39m\u001b[38;5;241m/\u001b[39mn\u001b[38;5;241m*\u001b[39mtorch\u001b[38;5;241m.\u001b[39mmean((batch\u001b[38;5;241m-\u001b[39mw2)\u001b[38;5;241m*\u001b[39m\u001b[38;5;241m*\u001b[39m\u001b[38;5;241m2\u001b[39m)\u001b[38;5;241m-\u001b[39m(\u001b[38;5;241m1\u001b[39m\u001b[38;5;241m-\u001b[39m\u001b[38;5;241m1\u001b[39m\u001b[38;5;241m/\u001b[39mn)\u001b[38;5;241m*\u001b[39mtorch\u001b[38;5;241m.\u001b[39mmean((batch\u001b[38;5;241m-\u001b[39mw3)\u001b[38;5;241m*\u001b[39m\u001b[38;5;241m*\u001b[39m\u001b[38;5;241m2\u001b[39m)\n\u001b[1;32m     57\u001b[0m \u001b[38;5;28;01mreturn\u001b[39;00m loss1,loss2\n",
      "\u001b[0;31mKeyboardInterrupt\u001b[0m: "
     ]
    }
   ],
   "source": [
    "history = training(N_EPOCHS,model,train_loader,val_loader)"
   ]
  },
  {
   "cell_type": "code",
   "execution_count": null,
   "metadata": {
    "colab": {
     "base_uri": "https://localhost:8080/",
     "height": 295
    },
    "id": "fYwlN0JKVVtN",
    "outputId": "c742ff8b-3b4a-41f5-dd09-effee1be928a"
   },
   "outputs": [
    {
     "data": {
      "image/png": "[encoded data removed]",
      "text/plain": [
       "<Figure size 640x480 with 1 Axes>"
      ]
     },
     "metadata": {},
     "output_type": "display_data"
    }
   ],
   "source": [
    "plot_history(history)"
   ]
  },
  {
   "cell_type": "code",
   "execution_count": null,
   "metadata": {
    "id": "ieObNqKYsOzh"
   },
   "outputs": [],
   "source": [
    "torch.save({\n",
    "            'encoder': model.encoder.state_dict(),\n",
    "            'decoder1': model.decoder1.state_dict(),\n",
    "            'decoder2': model.decoder2.state_dict()\n",
    "            }, \"model.pth\")"
   ]
  },
  {
   "cell_type": "markdown",
   "metadata": {
    "id": "ymhjbmvR_DgJ"
   },
   "source": [
    "## Testing"
   ]
  },
  {
   "cell_type": "code",
   "execution_count": 29,
   "metadata": {
    "colab": {
     "base_uri": "https://localhost:8080/",
     "height": 34
    },
    "id": "b7rbm9wdXKeF",
    "outputId": "076309c7-22be-41f6-f916-5f11cb679672"
   },
   "outputs": [
    {
     "name": "stdout",
     "output_type": "stream",
     "text": [
      "w_size 612\n",
      "z_size 100\n"
     ]
    }
   ],
   "source": [
    "if 0:\n",
    "    checkpoint = torch.load(\"model.pth\")\n",
    "\n",
    "    model.encoder.load_state_dict(checkpoint['encoder'])\n",
    "    model.decoder1.load_state_dict(checkpoint['decoder1'])\n",
    "    model.decoder2.load_state_dict(checkpoint['decoder2'])\n",
    "else:\n",
    "    checkpoint = torch.load('USAD_SWaT_model.ckpt')\n",
    "    w_size = checkpoint['hp_dict']['w_size']\n",
    "    z_size = checkpoint['hp_dict']['z_size']\n",
    "    print(\"w_size\", w_size)\n",
    "    print(\"z_size\", z_size)\n",
    "    model = UsadModel(w_size, z_size)\n",
    "    model = to_device(model,device)\n",
    "    model.load_state_dict(checkpoint['model_states'])\n",
    "\n"
   ]
  },
  {
   "cell_type": "code",
   "execution_count": 30,
   "metadata": {
    "id": "Ry1QTp6V2ny4"
   },
   "outputs": [
    {
     "name": "stdout",
     "output_type": "stream",
     "text": [
      "batch:\n",
      "torch.Size([4096, 612])\n",
      "tensor([0.0000e+00, 1.0000e+00, 0.0000e+00, 0.0000e+00, 1.0000e+00, 9.0954e-01,\n",
      "        3.5425e-02, 3.8935e-01, 2.1340e-02, 9.8227e-01, 9.4383e-01, 9.6220e-01,\n",
      "        9.6706e-01, 1.0000e+00, 0.0000e+00, 9.4688e-01, 4.4978e-01, 9.4493e-01,\n",
      "        7.3392e-05, 0.0000e+00], device='cuda:0')\n",
      "<class 'torch.Tensor'>\n",
      "torch.float32\n",
      "w1:\n",
      "<class 'torch.Tensor'>\n",
      "torch.float32\n",
      "torch.Size([4096, 612])\n",
      "tensor([7.2660e-01, 5.9514e-01, 8.8395e-01, 9.6525e-01, 1.5530e-04, 5.6953e-01,\n",
      "        1.1429e-01, 7.0409e-02, 9.6314e-01, 9.6771e-01, 1.0147e-04, 3.4383e-04,\n",
      "        9.7263e-01, 1.5606e-04, 9.0398e-01, 5.1459e-04, 9.0285e-01, 9.0582e-01,\n",
      "        8.3558e-01, 4.9354e-01, 9.7987e-01, 5.1761e-01, 5.0381e-01, 3.0294e-03,\n",
      "        9.6393e-01, 8.8465e-01, 1.8582e-01, 9.9692e-01, 8.9545e-01, 2.8631e-04,\n",
      "        9.9776e-01, 6.4330e-04, 4.4141e-04, 9.9955e-01, 9.0893e-01, 1.9651e-01,\n",
      "        4.6907e-01, 1.9009e-02, 9.8754e-01, 9.3871e-01, 9.7905e-01, 9.9573e-01,\n",
      "        9.9934e-01, 1.7277e-04, 9.5672e-01, 3.0572e-01, 9.6041e-01, 9.3948e-04,\n",
      "        3.4814e-04, 4.7794e-04, 3.3393e-04, 7.3632e-01, 5.7367e-01, 8.9170e-01,\n",
      "        9.6590e-01, 3.2777e-04, 5.4209e-01, 1.7708e-01, 1.1668e-01, 9.5584e-01,\n",
      "        9.6355e-01, 3.1546e-04, 1.2888e-04, 9.6966e-01, 2.5401e-04, 9.1123e-01,\n",
      "        7.5214e-04, 8.9380e-01, 9.1853e-01, 8.5311e-01, 5.0915e-01, 9.8306e-01,\n",
      "        5.2487e-01, 4.8693e-01, 1.4935e-02, 9.7272e-01, 8.7404e-01, 1.6740e-01,\n",
      "        9.9343e-01, 8.8482e-01, 6.9450e-04, 9.9889e-01, 2.8755e-04, 3.7326e-04,\n",
      "        9.9913e-01, 9.1998e-01, 2.2450e-01, 4.5962e-01, 2.8887e-02, 9.9725e-01,\n",
      "        9.4918e-01, 9.9505e-01, 9.8877e-01, 9.9784e-01, 3.3938e-04, 9.5883e-01,\n",
      "        3.2468e-01, 9.6535e-01, 1.6048e-03, 6.2199e-04, 1.7519e-03, 9.6113e-04,\n",
      "        6.9750e-01, 6.1428e-01, 9.1575e-01, 9.7409e-01, 1.7463e-04, 5.6604e-01,\n",
      "        1.2424e-01, 9.5793e-02, 9.5803e-01, 9.5972e-01, 2.0656e-04, 2.9872e-04,\n",
      "        9.6517e-01, 4.7537e-04, 8.9598e-01, 9.6137e-04, 9.1284e-01, 9.0338e-01,\n",
      "        8.4697e-01, 5.2967e-01, 9.7445e-01, 5.2443e-01, 4.8659e-01, 8.4570e-03,\n",
      "        9.6304e-01, 8.7218e-01, 1.9754e-01, 9.9694e-01, 8.9716e-01, 5.7668e-04,\n",
      "        9.9953e-01, 3.4501e-04, 1.0726e-04, 9.9832e-01, 9.2229e-01, 1.8406e-01,\n",
      "        4.7458e-01, 2.6270e-02, 9.9562e-01, 9.5263e-01, 9.6944e-01, 9.8333e-01,\n",
      "        9.9871e-01, 8.0892e-04, 9.5524e-01, 3.1342e-01, 9.6849e-01, 2.1932e-03,\n",
      "        4.3525e-04, 1.9795e-04, 9.8722e-05, 7.0777e-01, 6.0034e-01, 9.0936e-01,\n",
      "        9.7063e-01, 2.0115e-04, 5.7457e-01, 1.6836e-01, 8.7525e-02, 9.5971e-01,\n",
      "        9.6604e-01, 1.8469e-04, 4.4491e-04, 9.7047e-01, 2.8445e-04, 9.0745e-01,\n",
      "        1.0227e-03, 8.8288e-01, 9.0428e-01, 8.4187e-01, 5.1474e-01, 9.7813e-01,\n",
      "        5.0556e-01, 5.2882e-01, 1.2330e-02, 9.7309e-01, 8.6544e-01, 1.7911e-01,\n",
      "        9.9698e-01, 8.8682e-01, 2.5961e-04, 9.9967e-01, 1.7661e-04, 5.8134e-04,\n",
      "        9.9833e-01, 8.9187e-01, 1.9775e-01, 4.3575e-01, 2.7820e-02, 9.9807e-01,\n",
      "        9.4917e-01, 9.8012e-01, 9.7536e-01, 9.9934e-01, 5.1217e-04, 9.6617e-01,\n",
      "        3.0384e-01, 9.5352e-01, 2.0471e-04, 2.8940e-04, 2.0327e-04, 5.1246e-04,\n",
      "        7.2587e-01, 6.0634e-01, 8.9669e-01, 9.7627e-01, 3.3145e-04, 5.4380e-01,\n",
      "        1.3555e-01, 1.0120e-01, 9.6360e-01, 9.6028e-01, 9.5666e-04, 2.9725e-04,\n",
      "        9.7636e-01, 5.2025e-04, 8.9913e-01, 1.6759e-04, 8.9734e-01, 8.8537e-01,\n",
      "        8.5578e-01, 4.8701e-01, 9.7871e-01, 4.8594e-01, 4.9525e-01, 4.7687e-03,\n",
      "        9.6693e-01, 8.7154e-01, 1.5444e-01, 9.9297e-01, 8.8425e-01, 6.7799e-04,\n",
      "        9.9882e-01, 7.8502e-04, 1.0949e-04, 9.9873e-01, 9.1153e-01, 1.9951e-01,\n",
      "        4.6763e-01, 3.0296e-02, 9.8784e-01, 9.5134e-01, 9.8789e-01, 9.9527e-01,\n",
      "        9.9747e-01, 2.1727e-04, 9.5907e-01, 3.1641e-01, 9.6814e-01, 1.0290e-03,\n",
      "        1.6085e-04, 3.7201e-04, 1.5974e-04, 7.1241e-01, 5.9152e-01, 8.8563e-01,\n",
      "        9.7926e-01, 3.6181e-04, 5.8300e-01, 1.2543e-01, 1.0266e-01, 9.6658e-01,\n",
      "        9.6025e-01, 1.2380e-03, 2.1217e-03, 9.7341e-01, 3.1561e-04, 8.8502e-01,\n",
      "        2.8271e-04, 9.0495e-01, 9.0363e-01, 8.6053e-01, 4.9689e-01, 9.8070e-01,\n",
      "        4.9394e-01, 4.9938e-01, 9.8083e-03, 9.6905e-01, 8.6521e-01, 1.7195e-01,\n",
      "        9.9796e-01, 8.9078e-01, 2.9817e-04, 9.9943e-01, 6.5359e-04, 3.0216e-04,\n",
      "        9.9600e-01, 9.1204e-01, 1.5044e-01, 4.9481e-01, 1.6133e-02, 9.9581e-01,\n",
      "        9.4899e-01, 9.8003e-01, 9.7693e-01, 9.9857e-01, 3.4730e-04, 9.5750e-01,\n",
      "        3.0310e-01, 9.5668e-01, 7.9291e-04, 3.4766e-04, 7.6491e-04, 2.0574e-04,\n",
      "        7.1919e-01, 5.9030e-01, 8.9592e-01, 9.7442e-01, 1.6013e-04, 5.9027e-01,\n",
      "        1.5536e-01, 1.0119e-01, 9.7161e-01, 9.5841e-01, 5.6390e-04, 1.8132e-04,\n",
      "        9.7539e-01, 2.6550e-04, 9.0964e-01, 2.5078e-03, 8.9425e-01, 9.0205e-01,\n",
      "        8.6854e-01, 4.9716e-01, 9.8140e-01, 5.2583e-01, 5.4091e-01, 3.5225e-03,\n",
      "        9.6076e-01, 8.7680e-01, 1.6788e-01, 9.8394e-01, 9.0522e-01, 3.9321e-04,\n",
      "        9.9933e-01, 1.4212e-03, 2.1020e-04, 9.9849e-01, 9.1975e-01, 1.9695e-01,\n",
      "        4.6419e-01, 3.3923e-02, 9.9829e-01, 9.4698e-01, 9.7068e-01, 9.8578e-01,\n",
      "        9.9833e-01, 1.1108e-03, 9.6621e-01, 3.0840e-01, 9.6822e-01, 2.5321e-04,\n",
      "        4.8153e-04, 3.7933e-04, 8.3176e-04, 7.3225e-01, 5.9812e-01, 9.1084e-01,\n",
      "        9.7695e-01, 2.5455e-04, 5.7712e-01, 1.4322e-01, 1.1105e-01, 9.7058e-01,\n",
      "        9.6712e-01, 1.3618e-04, 5.1569e-04, 9.7834e-01, 1.1752e-04, 9.0793e-01,\n",
      "        2.1552e-04, 9.1441e-01, 9.0149e-01, 8.6870e-01, 5.3224e-01, 9.7564e-01,\n",
      "        4.9997e-01, 5.0785e-01, 2.5400e-03, 9.5201e-01, 8.7853e-01, 1.8640e-01,\n",
      "        9.8853e-01, 9.0406e-01, 5.2873e-04, 9.9820e-01, 1.5929e-04, 7.8568e-04,\n",
      "        9.9899e-01, 9.1807e-01, 1.7138e-01, 4.5018e-01, 3.5534e-02, 9.9846e-01,\n",
      "        9.5140e-01, 9.7590e-01, 9.8238e-01, 9.9881e-01, 8.7750e-05, 9.6811e-01,\n",
      "        2.6152e-01, 9.5782e-01, 7.9174e-04, 3.8754e-04, 1.5161e-03, 3.7994e-04,\n",
      "        7.0175e-01, 5.9627e-01, 8.9855e-01, 9.7637e-01, 4.1506e-04, 5.4941e-01,\n",
      "        1.7001e-01, 9.2936e-02, 9.6969e-01, 9.5590e-01, 6.1299e-04, 8.4389e-04,\n",
      "        9.7752e-01, 5.7967e-04, 9.0362e-01, 7.9438e-05, 8.9960e-01, 9.0498e-01,\n",
      "        8.7921e-01, 4.9729e-01, 9.7653e-01, 5.1466e-01, 5.0896e-01, 2.2017e-03,\n",
      "        9.6323e-01, 8.8313e-01, 1.5910e-01, 9.8896e-01, 8.9950e-01, 3.7814e-04,\n",
      "        9.9939e-01, 1.3699e-04, 3.6693e-04, 9.9851e-01, 9.1406e-01, 1.9600e-01,\n",
      "        4.6532e-01, 3.3735e-02, 9.8667e-01, 9.5002e-01, 9.7796e-01, 9.8609e-01,\n",
      "        9.9909e-01, 2.0811e-04, 9.6221e-01, 2.9614e-01, 9.6330e-01, 1.2356e-03,\n",
      "        5.8078e-04, 1.1345e-03, 6.8699e-04, 7.4815e-01, 5.7267e-01, 8.9265e-01,\n",
      "        9.8034e-01, 1.1273e-04, 5.8297e-01, 1.4118e-01, 9.2207e-02, 9.6925e-01,\n",
      "        9.6108e-01, 1.6064e-04, 1.2513e-03, 9.7465e-01, 2.4492e-04, 9.0959e-01,\n",
      "        2.2059e-04, 8.9041e-01, 9.0025e-01, 8.8123e-01, 5.1468e-01, 9.7903e-01,\n",
      "        4.9817e-01, 5.2743e-01, 6.8189e-03, 9.5403e-01, 8.8234e-01, 1.8908e-01,\n",
      "        9.9268e-01, 9.0190e-01, 1.1275e-04, 9.9922e-01, 3.0966e-04, 1.0953e-04,\n",
      "        9.9898e-01, 9.2276e-01, 2.0503e-01, 4.6107e-01, 2.7111e-02, 9.8929e-01,\n",
      "        9.5035e-01, 9.7365e-01, 9.8948e-01, 9.9864e-01, 5.9442e-04, 9.5302e-01,\n",
      "        3.1286e-01, 9.6685e-01, 5.4817e-03, 3.2153e-04, 3.2735e-03, 2.7070e-04,\n",
      "        7.2969e-01, 5.7817e-01, 8.9923e-01, 9.7274e-01, 1.4854e-03, 5.5998e-01,\n",
      "        1.3615e-01, 7.1665e-02, 9.6635e-01, 9.6700e-01, 2.8878e-04, 3.8945e-04,\n",
      "        9.8065e-01, 4.1891e-04, 9.0893e-01, 5.0135e-04, 8.7919e-01, 8.7886e-01,\n",
      "        8.6142e-01, 5.0810e-01, 9.8052e-01, 5.3951e-01, 5.1178e-01, 2.0298e-03,\n",
      "        9.5890e-01, 8.8824e-01, 1.6806e-01, 9.9837e-01, 8.9020e-01, 2.9454e-04,\n",
      "        9.9936e-01, 4.2625e-04, 6.0514e-04, 9.9915e-01, 9.1614e-01, 1.9658e-01,\n",
      "        4.5957e-01, 9.4270e-03, 9.8287e-01, 9.5208e-01, 9.7862e-01, 9.8243e-01,\n",
      "        9.9811e-01, 3.2425e-04, 9.6589e-01, 3.0518e-01, 9.5738e-01, 1.1947e-03,\n",
      "        2.7285e-04, 1.1584e-03, 1.0467e-04, 7.3001e-01, 5.8204e-01, 8.9148e-01,\n",
      "        9.6878e-01, 1.7797e-04, 5.8701e-01, 1.3253e-01, 8.8032e-02, 9.6868e-01,\n",
      "        9.6465e-01, 1.5218e-04, 5.6287e-04, 9.6931e-01, 3.3538e-04, 8.9585e-01,\n",
      "        3.3744e-04, 8.8901e-01, 8.8723e-01, 8.7526e-01, 4.9701e-01, 9.7760e-01,\n",
      "        4.9742e-01, 5.0538e-01, 6.3655e-03, 9.4333e-01, 8.7944e-01, 1.7577e-01,\n",
      "        9.8161e-01, 9.0510e-01, 5.4135e-04, 9.9871e-01, 1.5419e-04, 3.5640e-04,\n",
      "        9.9948e-01, 9.1141e-01, 2.0673e-01, 4.7275e-01, 8.6380e-03, 9.8300e-01,\n",
      "        9.5148e-01, 9.7589e-01, 9.8885e-01, 9.9942e-01, 5.1921e-04, 9.5790e-01,\n",
      "        3.4139e-01, 9.6230e-01, 1.4341e-03, 3.2976e-04, 1.1582e-02, 2.0399e-04],\n",
      "       device='cuda:0')\n",
      "w2:\n",
      "<class 'torch.Tensor'>\n",
      "torch.float32\n",
      "torch.Size([4096, 612])\n",
      "tensor([6.3203e-01, 5.6440e-01, 9.9158e-01, 6.2010e-01, 7.2270e-03, 5.0629e-01,\n",
      "        3.0845e-03, 3.0478e-03, 9.9703e-01, 9.9549e-01, 1.6166e-02, 8.1490e-03,\n",
      "        6.5066e-01, 8.9559e-03, 5.5569e-01, 8.3404e-03, 9.7411e-01, 6.5779e-01,\n",
      "        8.9506e-01, 5.1323e-01, 9.9731e-01, 5.2561e-01, 4.5521e-01, 1.7615e-02,\n",
      "        8.5150e-01, 9.9470e-01, 1.5054e-03, 9.9268e-01, 8.8081e-01, 9.5731e-03,\n",
      "        9.9222e-01, 1.6362e-02, 1.5214e-02, 9.8755e-01, 9.8671e-01, 1.4586e-03,\n",
      "        4.7056e-01, 3.6262e-02, 9.8970e-01, 9.8859e-01, 9.5695e-01, 9.8066e-01,\n",
      "        9.9209e-01, 1.0294e-02, 9.5283e-01, 3.8232e-01, 9.3553e-01, 3.6206e-02,\n",
      "        1.7764e-02, 1.7593e-02, 2.4793e-02, 6.3566e-01, 6.0116e-01, 9.7731e-01,\n",
      "        5.6812e-01, 1.1237e-02, 5.4278e-01, 2.0125e-03, 1.3382e-03, 5.9174e-01,\n",
      "        9.8792e-01, 2.4957e-02, 8.9133e-03, 6.1693e-01, 1.1507e-02, 5.0262e-01,\n",
      "        1.1471e-02, 9.9357e-01, 7.5981e-01, 7.7045e-01, 4.8996e-01, 9.9410e-01,\n",
      "        5.0456e-01, 4.5824e-01, 1.3796e-02, 9.9464e-01, 9.9252e-01, 1.2765e-03,\n",
      "        9.6302e-01, 8.9701e-01, 1.3182e-02, 9.9186e-01, 1.9988e-02, 1.8378e-02,\n",
      "        9.8366e-01, 9.9585e-01, 1.2259e-03, 4.1506e-01, 1.3830e-02, 9.8333e-01,\n",
      "        9.9148e-01, 9.5590e-01, 9.7546e-01, 9.8207e-01, 2.8059e-03, 9.5949e-01,\n",
      "        3.8865e-01, 9.5379e-01, 2.1914e-02, 2.1670e-02, 1.7964e-02, 7.7581e-03,\n",
      "        6.2447e-01, 5.4040e-01, 9.9291e-01, 6.6925e-01, 2.0826e-02, 4.3054e-01,\n",
      "        4.3124e-03, 2.2972e-03, 5.6574e-01, 9.9543e-01, 2.2526e-02, 1.2798e-02,\n",
      "        7.3836e-01, 1.4813e-02, 5.2435e-01, 1.2652e-02, 7.0908e-01, 9.5097e-01,\n",
      "        9.6736e-01, 4.9196e-01, 9.9705e-01, 4.3203e-01, 5.1771e-01, 3.9629e-03,\n",
      "        9.7020e-01, 9.9789e-01, 7.3530e-04, 9.8739e-01, 9.9164e-01, 1.1833e-02,\n",
      "        9.9120e-01, 1.1709e-02, 1.5694e-02, 9.8652e-01, 9.8814e-01, 5.8380e-04,\n",
      "        4.4568e-01, 1.6098e-02, 9.7406e-01, 9.7299e-01, 9.7898e-01, 9.7136e-01,\n",
      "        9.6685e-01, 1.2030e-02, 9.0784e-01, 3.6462e-01, 9.6121e-01, 1.8635e-02,\n",
      "        1.3534e-02, 1.8363e-02, 1.9286e-02, 6.7274e-01, 6.9965e-01, 9.8444e-01,\n",
      "        6.2442e-01, 2.2563e-02, 5.3843e-01, 4.1524e-03, 3.1796e-03, 5.4615e-01,\n",
      "        9.9661e-01, 1.1566e-02, 6.2007e-03, 6.5995e-01, 1.0285e-02, 5.0948e-01,\n",
      "        2.6902e-02, 6.9513e-01, 6.6132e-01, 9.7031e-01, 5.6616e-01, 9.9433e-01,\n",
      "        5.1307e-01, 6.3801e-01, 7.5255e-03, 9.9566e-01, 9.9700e-01, 2.8985e-03,\n",
      "        9.8093e-01, 9.6095e-01, 1.3954e-02, 9.8319e-01, 1.1780e-02, 3.0581e-02,\n",
      "        9.9002e-01, 9.9591e-01, 1.2150e-03, 4.9298e-01, 3.2633e-02, 9.8440e-01,\n",
      "        9.7542e-01, 9.5780e-01, 9.7553e-01, 9.8863e-01, 7.3534e-03, 9.4650e-01,\n",
      "        3.9327e-01, 9.5384e-01, 3.2764e-02, 1.9544e-02, 7.6694e-03, 1.9561e-02,\n",
      "        6.2347e-01, 5.5038e-01, 8.5906e-01, 6.3210e-01, 5.1517e-02, 5.8737e-01,\n",
      "        6.1979e-03, 2.6662e-03, 9.5219e-01, 9.9345e-01, 7.7148e-03, 3.8686e-02,\n",
      "        5.9409e-01, 2.5030e-02, 5.8750e-01, 1.7017e-02, 9.9632e-01, 7.8133e-01,\n",
      "        9.2491e-01, 4.4020e-01, 9.9491e-01, 5.1493e-01, 4.8859e-01, 9.1925e-03,\n",
      "        9.9627e-01, 9.8853e-01, 8.3454e-03, 9.8187e-01, 9.9444e-01, 1.0249e-02,\n",
      "        9.8333e-01, 1.5914e-02, 1.9014e-02, 9.8674e-01, 9.9650e-01, 1.1229e-03,\n",
      "        4.7121e-01, 3.0635e-02, 9.9347e-01, 9.8249e-01, 9.5584e-01, 9.8676e-01,\n",
      "        9.8616e-01, 8.6614e-03, 9.3569e-01, 5.3378e-01, 9.2826e-01, 1.3140e-02,\n",
      "        2.7393e-02, 2.8439e-02, 8.3415e-03, 5.5889e-01, 6.9035e-01, 9.9044e-01,\n",
      "        6.1618e-01, 1.5441e-02, 6.0864e-01, 2.1398e-01, 1.8466e-03, 6.2783e-01,\n",
      "        9.8467e-01, 2.1882e-02, 1.9322e-02, 5.8746e-01, 9.4524e-03, 4.9767e-01,\n",
      "        1.2009e-02, 8.9846e-01, 7.1916e-01, 3.9548e-04, 4.4417e-01, 9.9566e-01,\n",
      "        4.5088e-01, 4.8090e-01, 1.8987e-02, 9.9669e-01, 9.9792e-01, 1.2826e-03,\n",
      "        9.9051e-01, 9.9518e-01, 7.7426e-03, 9.8135e-01, 1.3445e-02, 1.1977e-02,\n",
      "        9.9137e-01, 9.9591e-01, 1.1214e-03, 4.8963e-01, 3.0702e-02, 9.8455e-01,\n",
      "        9.8601e-01, 9.5680e-01, 9.6969e-01, 9.8698e-01, 2.0422e-02, 9.5024e-01,\n",
      "        4.0774e-01, 9.4950e-01, 5.3095e-03, 1.0558e-02, 4.0964e-02, 2.4180e-02,\n",
      "        5.6724e-01, 6.4445e-01, 9.8848e-01, 9.8526e-01, 8.2484e-03, 4.6321e-01,\n",
      "        4.3063e-03, 3.0080e-03, 6.9540e-01, 9.9673e-01, 1.3155e-02, 2.4369e-02,\n",
      "        6.4621e-01, 1.9857e-02, 5.7535e-01, 1.4131e-02, 8.5101e-01, 7.2560e-01,\n",
      "        9.8102e-01, 5.2804e-01, 9.9508e-01, 4.7950e-01, 6.5394e-01, 1.3184e-02,\n",
      "        7.3252e-01, 9.9717e-01, 9.8844e-04, 9.8384e-01, 9.9323e-01, 1.0525e-02,\n",
      "        9.8292e-01, 1.5416e-02, 1.0645e-02, 9.7614e-01, 9.8033e-01, 8.8395e-03,\n",
      "        4.3191e-01, 2.2308e-02, 9.7676e-01, 9.9440e-01, 9.7262e-01, 9.7337e-01,\n",
      "        9.8836e-01, 1.1263e-02, 9.5808e-01, 4.1855e-01, 9.2185e-01, 4.1006e-02,\n",
      "        2.1832e-02, 1.1985e-02, 1.6923e-02, 6.4845e-01, 6.4361e-01, 9.8950e-01,\n",
      "        6.2777e-01, 1.2452e-02, 5.0193e-01, 8.2780e-03, 2.0741e-03, 6.4654e-01,\n",
      "        9.9675e-01, 8.1960e-03, 1.3929e-02, 7.7327e-01, 1.6693e-02, 5.2619e-01,\n",
      "        2.1685e-02, 9.9669e-01, 7.5988e-01, 9.7264e-01, 4.7698e-01, 9.9043e-01,\n",
      "        5.4834e-01, 5.6164e-01, 1.0703e-02, 9.9397e-01, 9.9610e-01, 2.5521e-03,\n",
      "        9.9182e-01, 8.3857e-01, 3.0252e-02, 9.9126e-01, 6.7068e-03, 1.7520e-02,\n",
      "        9.7314e-01, 9.9671e-01, 1.0696e-02, 4.6148e-01, 2.5634e-02, 9.7112e-01,\n",
      "        9.9305e-01, 9.7978e-01, 9.7681e-01, 9.8631e-01, 1.3728e-02, 9.2363e-01,\n",
      "        4.1162e-01, 9.4900e-01, 1.8388e-02, 1.4558e-02, 2.0706e-02, 6.5743e-03,\n",
      "        6.3912e-01, 6.1557e-01, 9.9432e-01, 6.1596e-01, 1.3550e-02, 4.7523e-01,\n",
      "        7.8385e-03, 1.1233e-02, 6.9873e-01, 9.9563e-01, 8.2892e-03, 5.1609e-03,\n",
      "        6.4722e-01, 3.0503e-02, 4.9053e-01, 1.1061e-02, 9.8175e-01, 9.9650e-01,\n",
      "        9.1913e-01, 4.4264e-01, 9.8704e-01, 4.4806e-01, 4.5758e-01, 7.2325e-03,\n",
      "        9.9122e-01, 9.9744e-01, 1.7860e-03, 9.7607e-01, 9.9396e-01, 5.1639e-02,\n",
      "        9.7784e-01, 9.7250e-03, 7.0713e-03, 9.8552e-01, 9.9325e-01, 1.2407e-03,\n",
      "        3.9422e-01, 2.2352e-02, 9.9314e-01, 9.9047e-01, 9.9013e-01, 9.7611e-01,\n",
      "        9.8432e-01, 9.6689e-03, 9.4867e-01, 4.5742e-01, 9.4182e-01, 1.4368e-02,\n",
      "        1.5048e-02, 1.3691e-02, 1.2834e-02, 5.4804e-01, 6.3328e-01, 9.1105e-01,\n",
      "        5.5778e-01, 3.2295e-02, 4.9153e-01, 2.9419e-03, 1.2732e-02, 9.7584e-01,\n",
      "        9.9224e-01, 1.4068e-02, 7.9350e-03, 6.6706e-01, 7.7898e-03, 5.3039e-01,\n",
      "        1.1667e-02, 9.8477e-01, 7.8781e-01, 9.7729e-01, 4.9074e-01, 9.8716e-01,\n",
      "        4.9823e-01, 5.0848e-01, 1.0910e-02, 9.9528e-01, 9.9800e-01, 8.3408e-04,\n",
      "        9.7629e-01, 8.0700e-01, 1.0029e-02, 9.8675e-01, 9.2057e-03, 7.7794e-03,\n",
      "        9.7034e-01, 9.9578e-01, 2.7190e-03, 4.6543e-01, 1.8896e-02, 9.8860e-01,\n",
      "        9.8736e-01, 9.4484e-01, 9.5814e-01, 9.8425e-01, 2.9009e-02, 9.6251e-01,\n",
      "        3.4040e-01, 9.3860e-01, 6.6703e-03, 8.9945e-03, 4.4200e-02, 3.8058e-02,\n",
      "        6.2000e-01, 6.4289e-01, 9.9581e-01, 7.1932e-01, 1.7930e-02, 5.3093e-01,\n",
      "        9.9196e-03, 2.1037e-02, 6.6199e-01, 9.9805e-01, 1.4381e-02, 2.5422e-02,\n",
      "        9.3529e-01, 5.0683e-03, 5.7823e-01, 2.0359e-02, 9.9604e-01, 8.2197e-01,\n",
      "        7.9937e-01, 5.1275e-01, 9.8718e-01, 4.3561e-01, 5.2645e-01, 1.3275e-02,\n",
      "        9.9252e-01, 9.9598e-01, 3.6594e-03, 9.5115e-01, 9.8788e-01, 6.3024e-02,\n",
      "        9.9086e-01, 2.4004e-02, 1.9706e-02, 9.8476e-01, 9.8943e-01, 5.2993e-04,\n",
      "        4.3478e-01, 1.7525e-02, 9.8437e-01, 9.8434e-01, 9.7187e-01, 9.7757e-01,\n",
      "        9.8133e-01, 1.1933e-02, 9.5062e-01, 3.7972e-01, 9.5006e-01, 1.2068e-02,\n",
      "        2.3192e-02, 1.9541e-02, 3.3474e-02, 6.1202e-01, 5.3752e-01, 9.7875e-01,\n",
      "        6.4930e-01, 2.2469e-02, 5.2554e-01, 4.5143e-03, 3.5733e-03, 6.2570e-01,\n",
      "        9.9370e-01, 1.4011e-02, 1.2849e-02, 7.0642e-01, 1.3564e-02, 5.1673e-01,\n",
      "        1.8523e-02, 9.7633e-01, 8.1012e-01, 9.2250e-01, 5.6176e-01, 9.9601e-01,\n",
      "        4.7062e-01, 4.3140e-01, 1.4954e-02, 9.9247e-01, 9.9803e-01, 5.8569e-04,\n",
      "        9.9064e-01, 9.9339e-01, 1.4240e-02, 9.8869e-01, 5.5702e-03, 2.0181e-02,\n",
      "        9.9072e-01, 9.8522e-01, 6.6918e-04, 4.5461e-01, 2.9707e-02, 9.8876e-01,\n",
      "        9.9197e-01, 9.6534e-01, 9.3827e-01, 9.9353e-01, 1.5103e-02, 9.1990e-01,\n",
      "        4.3809e-01, 9.5387e-01, 1.6048e-02, 1.5387e-02, 7.9249e-03, 1.3957e-02],\n",
      "       device='cuda:0')\n",
      "results:\n",
      "<class 'torch.Tensor'>\n",
      "torch.float32\n",
      "[0.023242421, 0.023232982, 0.02320082, 0.023161082, 0.023127493, 0.023085374, 0.023050819, 0.023004487, 0.02457245, 0.026168026, 0.027855003, 0.029525511, 0.031141482, 0.032806255, 0.034493342, 0.036107313, 0.03779925, 0.039448228, 0.041185796, 0.042905398]\n",
      "22\n"
     ]
    }
   ],
   "source": [
    "results=testing(model,test_loader)\n",
    "print(len(test_loader))"
   ]
  },
  {
   "cell_type": "code",
   "execution_count": 41,
   "metadata": {},
   "outputs": [
    {
     "name": "stdout",
     "output_type": "stream",
     "text": [
      "22\n"
     ]
    }
   ],
   "source": [
    "\n",
    "print(len(results))\n",
    "for i in range(len(results)):\n",
    "    plt.plot(results[i].to('cpu'))\n",
    "    plt.savefig(f'./results_{i}')\n",
    "    plt.close()\n"
   ]
  },
  {
   "cell_type": "code",
   "execution_count": 32,
   "metadata": {},
   "outputs": [],
   "source": [
    "windows_labels=[]\n",
    "labels_vals = downsample(np.asarray(labels).reshape(-1,1), 5)\n",
    "for i in range(len(labels_vals)-window_size):\n",
    "    windows_labels.append(list(np.int_(labels_vals[i:i+window_size])))"
   ]
  },
  {
   "cell_type": "code",
   "execution_count": 33,
   "metadata": {},
   "outputs": [],
   "source": [
    "y_test = [1.0 if (np.sum(window) > 0) else 0 for window in windows_labels ]"
   ]
  },
  {
   "cell_type": "code",
   "execution_count": 34,
   "metadata": {
    "id": "FSWwxheNvxR7"
   },
   "outputs": [],
   "source": [
    "y_pred=np.concatenate([torch.stack(results[:-1]).flatten().detach().cpu().numpy(),\n",
    "                              results[-1].flatten().detach().cpu().numpy()])\n"
   ]
  },
  {
   "cell_type": "code",
   "execution_count": 35,
   "metadata": {},
   "outputs": [
    {
     "name": "stdout",
     "output_type": "stream",
     "text": [
      "(89971,)\n"
     ]
    },
    {
     "data": {
      "text/plain": [
       "[<matplotlib.lines.Line2D at 0x77e340ee2850>]"
      ]
     },
     "execution_count": 35,
     "metadata": {},
     "output_type": "execute_result"
    },
    {
     "data": {
      "image/png": "[encoded data removed]",
      "text/plain": [
       "<Figure size 640x480 with 1 Axes>"
      ]
     },
     "metadata": {},
     "output_type": "display_data"
    }
   ],
   "source": [
    "\n",
    "print(y_pred.shape)\n",
    "\n",
    "plt.plot(y_pred[0:10000])\n"
   ]
  },
  {
   "cell_type": "code",
   "execution_count": 36,
   "metadata": {
    "colab": {
     "base_uri": "https://localhost:8080/",
     "height": 279
    },
    "id": "bROUyLM93cG3",
    "outputId": "755359d9-d0fb-4deb-b313-d3c2a2465a26"
   },
   "outputs": [
    {
     "data": {
      "image/png": "[encoded data removed]",
      "text/plain": [
       "<Figure size 640x480 with 1 Axes>"
      ]
     },
     "metadata": {},
     "output_type": "display_data"
    }
   ],
   "source": [
    "threshold=ROC(y_test,y_pred)"
   ]
  },
  {
   "cell_type": "code",
   "execution_count": null,
   "metadata": {},
   "outputs": [],
   "source": []
  }
 ],
 "metadata": {
  "accelerator": "GPU",
  "colab": {
   "name": "USAD_test.ipynb",
   "provenance": [],
   "toc_visible": true
  },
  "kernelspec": {
   "display_name": "Python 3",
   "language": "python",
   "name": "python3"
  },
  "language_info": {
   "codemirror_mode": {
    "name": "ipython",
    "version": 3
   },
   "file_extension": ".py",
   "mimetype": "text/x-python",
   "name": "python",
   "nbconvert_exporter": "python",
   "pygments_lexer": "ipython3",
   "version": "3.11.5"
  }
 },
 "nbformat": 4,
 "nbformat_minor": 1
}
